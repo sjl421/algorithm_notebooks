{
 "cells": [
  {
   "cell_type": "markdown",
   "metadata": {},
   "source": [
    "### [Problem Statement](https://leetcode.com/problems/basic-calculator/description/)\n",
    "Implement a basic calculator to evaluate a simple expression string.\n",
    "\n",
    "The expression string may contain open `(` and closing parentheses `)`, the plus `+` or minus sign `-`, non-negative integers and empty spaces .\n",
    "\n",
    "You may assume that the given expression is always valid.\n",
    "\n",
    "Some examples:\n",
    "\n",
    "`\n",
    "\"1 + 1\" = 2\n",
    "\" 2-1 + 2 \" = 3\n",
    "\"(1+(4+5+2)-3)+(6+8)\" = 23\n",
    "`\n",
    "\n",
    "Note: Do not use the eval built-in library function."
   ]
  },
  {
   "cell_type": "markdown",
   "metadata": {},
   "source": [
    "### Idea\n",
    "Use one variable to track the result so far. Use another variable to track the sign so far.\n",
    "\n",
    "Use one stack to record the results before a parenthesis. Use another stack to to record the sign before a parenthesis."
   ]
  },
  {
   "cell_type": "code",
   "execution_count": 1,
   "metadata": {},
   "outputs": [],
   "source": [
    "def calculate(s):\n",
    "    result = 0\n",
    "    nums = []\n",
    "    ops = []\n",
    "    i = 0\n",
    "    sign = 1\n",
    "    n = len(s)\n",
    "    \n",
    "    while i < n:\n",
    "        if s[i].isdigit():\n",
    "            start = i\n",
    "            while i < n and s[i].isdigit():\n",
    "                i += 1\n",
    "            ts = int(s[start:i])\n",
    "            result += sign * ts\n",
    "            i -= 1\n",
    "        elif s[i] == '+': \n",
    "            sign = 1\n",
    "        elif s[i] == '-': \n",
    "            sign = -1\n",
    "        elif s[i] == '(': \n",
    "            nums.append(result)\n",
    "            ops.append(sign)\n",
    "            result = 0\n",
    "            sign = 1\n",
    "        elif s[i] == ')':\n",
    "            result = nums.pop() + ops.pop() * result\n",
    "        i += 1\n",
    "        \n",
    "    return result"
   ]
  },
  {
   "cell_type": "code",
   "execution_count": 2,
   "metadata": {},
   "outputs": [
    {
     "data": {
      "text/plain": [
       "23"
      ]
     },
     "execution_count": 2,
     "metadata": {},
     "output_type": "execute_result"
    }
   ],
   "source": [
    "calculate('(1+(4+5+2)-3)+(6+8)')"
   ]
  }
 ],
 "metadata": {
  "kernelspec": {
   "display_name": "Python 3",
   "language": "python",
   "name": "python3"
  },
  "language_info": {
   "codemirror_mode": {
    "name": "ipython",
    "version": 3
   },
   "file_extension": ".py",
   "mimetype": "text/x-python",
   "name": "python",
   "nbconvert_exporter": "python",
   "pygments_lexer": "ipython3",
   "version": "3.6.4"
  }
 },
 "nbformat": 4,
 "nbformat_minor": 2
}
