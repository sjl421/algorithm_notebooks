{
 "cells": [
  {
   "cell_type": "code",
   "execution_count": 75,
   "metadata": {},
   "outputs": [],
   "source": [
    "class AutocompleteSystem:\n",
    "\n",
    "    def __init__(self, sentences, times):\n",
    "        \"\"\"\n",
    "        :type sentences: List[str]\n",
    "        :type times: List[int]\n",
    "        \"\"\"\n",
    "        self.sentences = sentences\n",
    "        self.times = times\n",
    "        self.trie = {}\n",
    "        for i, s in enumerate(sentences):\n",
    "            t = self.trie\n",
    "            for c in s:\n",
    "                if c not in t:\n",
    "                    t[c] = {}\n",
    "                t = t[c]\n",
    "            t['#'] = i\n",
    "        self.branch = self.trie\n",
    "        self.inputs = ''\n",
    "    \n",
    "    def update(self, s):\n",
    "        t = self.trie\n",
    "        for c in s:\n",
    "            if c not in t:\n",
    "                t[c] = {}\n",
    "            t = t[c]\n",
    "        if '#' in t:\n",
    "            self.times[t['#']] += 1\n",
    "        else:\n",
    "            idx = len(self.sentences)\n",
    "            t['#'] = idx\n",
    "            self.sentences.append(s)\n",
    "            self.times.append(1)\n",
    "    \n",
    "    def input(self, c):\n",
    "        \"\"\"\n",
    "        :type c: str\n",
    "        :rtype: List[str]\n",
    "        \"\"\"\n",
    "        if c == '#':\n",
    "            self.update(self.inputs)\n",
    "            self.branch = self.trie\n",
    "            self.inputs = ''\n",
    "            return []\n",
    "        \n",
    "        self.inputs += c\n",
    "        if c not in self.branch:\n",
    "            return []\n",
    "        \n",
    "        self.branch = self.branch[c]\n",
    "        \n",
    "        res = []\n",
    "        self.find(self.branch, res)\n",
    "        \n",
    "        rank = []\n",
    "        res = {self.sentences[i]: self.times[i] for i in res}\n",
    "        res = sorted(res, key=lambda k: (-res[k], k))\n",
    "        \n",
    "        return res[:min(3, len(res))]\n",
    "    \n",
    "    def find(self, root, res):\n",
    "        for key in root:\n",
    "            if key == '#':\n",
    "                res.append(root[key])\n",
    "                return\n",
    "            self.find(root[key], res)\n",
    "        "
   ]
  },
  {
   "cell_type": "code",
   "execution_count": 1,
   "metadata": {},
   "outputs": [],
   "source": [
    "# Your AutocompleteSystem object will be instantiated and called as such:\n",
    "# obj = AutocompleteSystem(sentences, times)\n",
    "# param_1 = obj.input(c)"
   ]
  },
  {
   "cell_type": "code",
   "execution_count": 76,
   "metadata": {},
   "outputs": [],
   "source": [
    "auto = AutocompleteSystem([\"i love you\", \"island\",\"ironman\", \"i love leetcode\"], [5,3,2,2])"
   ]
  },
  {
   "cell_type": "code",
   "execution_count": 77,
   "metadata": {},
   "outputs": [],
   "source": [
    "res = auto.input(\"i\")"
   ]
  },
  {
   "cell_type": "code",
   "execution_count": 78,
   "metadata": {},
   "outputs": [
    {
     "data": {
      "text/plain": [
       "['i love you', 'island', 'i love leetcode']"
      ]
     },
     "execution_count": 78,
     "metadata": {},
     "output_type": "execute_result"
    }
   ],
   "source": [
    "res"
   ]
  },
  {
   "cell_type": "code",
   "execution_count": 79,
   "metadata": {},
   "outputs": [],
   "source": [
    "res = auto.input(\" \")"
   ]
  },
  {
   "cell_type": "code",
   "execution_count": 80,
   "metadata": {},
   "outputs": [
    {
     "data": {
      "text/plain": [
       "['i love you', 'i love leetcode']"
      ]
     },
     "execution_count": 80,
     "metadata": {},
     "output_type": "execute_result"
    }
   ],
   "source": [
    "res"
   ]
  },
  {
   "cell_type": "code",
   "execution_count": 81,
   "metadata": {},
   "outputs": [],
   "source": [
    "res = auto.input('a')"
   ]
  },
  {
   "cell_type": "code",
   "execution_count": 82,
   "metadata": {},
   "outputs": [
    {
     "data": {
      "text/plain": [
       "[]"
      ]
     },
     "execution_count": 82,
     "metadata": {},
     "output_type": "execute_result"
    }
   ],
   "source": [
    "res"
   ]
  },
  {
   "cell_type": "code",
   "execution_count": 73,
   "metadata": {},
   "outputs": [],
   "source": [
    "res = {'a': 1, 'b':2, 'aa':1, 'ab':1}"
   ]
  },
  {
   "cell_type": "code",
   "execution_count": 74,
   "metadata": {},
   "outputs": [
    {
     "data": {
      "text/plain": [
       "['b', 'a', 'aa', 'ab']"
      ]
     },
     "execution_count": 74,
     "metadata": {},
     "output_type": "execute_result"
    }
   ],
   "source": [
    "sorted(res, key=lambda k: (-res[k], k))"
   ]
  }
 ],
 "metadata": {
  "kernelspec": {
   "display_name": "Python 3",
   "language": "python",
   "name": "python3"
  },
  "language_info": {
   "codemirror_mode": {
    "name": "ipython",
    "version": 3
   },
   "file_extension": ".py",
   "mimetype": "text/x-python",
   "name": "python",
   "nbconvert_exporter": "python",
   "pygments_lexer": "ipython3",
   "version": "3.6.4"
  }
 },
 "nbformat": 4,
 "nbformat_minor": 2
}
