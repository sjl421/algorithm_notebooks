{
 "cells": [
  {
   "cell_type": "code",
   "execution_count": 2,
   "metadata": {},
   "outputs": [],
   "source": [
    "a, b, c = \"0:start:0\".split(':')"
   ]
  },
  {
   "cell_type": "code",
   "execution_count": 8,
   "metadata": {},
   "outputs": [],
   "source": [
    "def exclusiveTime(n, logs):\n",
    "    \"\"\"\n",
    "    :type n: int\n",
    "    :type logs: List[str]\n",
    "    :rtype: List[int]\n",
    "    \"\"\"\n",
    "    stack = []\n",
    "    res = [0] * n\n",
    "    \n",
    "    for log in logs:\n",
    "        idx, status, time = log.split(':')\n",
    "        idx, time = int(idx), int(time)\n",
    "        if status == 'start':\n",
    "            stack.append((idx, time))\n",
    "        else:\n",
    "            i, start = stack.pop()\n",
    "            res[i] += time - start + 1\n",
    "            if stack: res[stack[-1][0]] -= time - start + 1\n",
    "    \n",
    "    return res"
   ]
  },
  {
   "cell_type": "code",
   "execution_count": 9,
   "metadata": {
    "scrolled": true
   },
   "outputs": [
    {
     "data": {
      "text/plain": [
       "[3, 4]"
      ]
     },
     "execution_count": 9,
     "metadata": {},
     "output_type": "execute_result"
    }
   ],
   "source": [
    "exclusiveTime(2, \n",
    "              [\"0:start:0\",\n",
    "                \"1:start:2\",\n",
    "                \"1:end:5\",\n",
    "                \"0:end:6\"]\n",
    "             )"
   ]
  }
 ],
 "metadata": {
  "kernelspec": {
   "display_name": "Python 3",
   "language": "python",
   "name": "python3"
  },
  "language_info": {
   "codemirror_mode": {
    "name": "ipython",
    "version": 3
   },
   "file_extension": ".py",
   "mimetype": "text/x-python",
   "name": "python",
   "nbconvert_exporter": "python",
   "pygments_lexer": "ipython3",
   "version": "3.6.4"
  }
 },
 "nbformat": 4,
 "nbformat_minor": 2
}
