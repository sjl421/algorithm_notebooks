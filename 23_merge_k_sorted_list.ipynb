{
 "cells": [
  {
   "cell_type": "code",
   "execution_count": 1,
   "metadata": {},
   "outputs": [],
   "source": [
    "class ListNode:\n",
    "    def __init__(self, x):\n",
    "        self.val = x\n",
    "        self.next = None"
   ]
  },
  {
   "cell_type": "code",
   "execution_count": 2,
   "metadata": {},
   "outputs": [],
   "source": [
    "from heapq import *\n",
    "def mergeKLists(lists):\n",
    "    hq = [(root.val, root) for l in lists if root]\n",
    "    heapify(hq)\n",
    "    dummy = ListNode(0)\n",
    "    cur = dummy\n",
    "    \n",
    "    while hq:\n",
    "        cur.next = heappop(hq)\n",
    "        cur = cur.next\n",
    "        if cur.next: \n",
    "            heappush(hq, cur.next)\n",
    "    \n",
    "    return dummy.next"
   ]
  },
  {
   "cell_type": "markdown",
   "metadata": {},
   "source": [
    "Time complexity is `O(mlg(n))` where `m` is the total number of nodes from all the lists and `n` the number of lists."
   ]
  }
 ],
 "metadata": {
  "kernelspec": {
   "display_name": "Python 3",
   "language": "python",
   "name": "python3"
  },
  "language_info": {
   "codemirror_mode": {
    "name": "ipython",
    "version": 3
   },
   "file_extension": ".py",
   "mimetype": "text/x-python",
   "name": "python",
   "nbconvert_exporter": "python",
   "pygments_lexer": "ipython3",
   "version": "3.6.4"
  }
 },
 "nbformat": 4,
 "nbformat_minor": 2
}
