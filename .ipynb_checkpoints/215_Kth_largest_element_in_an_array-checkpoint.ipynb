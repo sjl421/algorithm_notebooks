{
 "cells": [
  {
   "cell_type": "markdown",
   "metadata": {},
   "source": [
    "### Idea 1\n",
    "Use a heap to maintain the top k elements while scanning through the entire array. When the scan is finished, return the last element in the heap. Time complexity is `O(nlgk)`."
   ]
  },
  {
   "cell_type": "code",
   "execution_count": 39,
   "metadata": {},
   "outputs": [],
   "source": [
    "from heapq import *\n",
    "def findKthLargestHeap(nums, k):\n",
    "    hq = nums[:k]\n",
    "    heapify(hq)\n",
    "    for n in nums[k:]:\n",
    "        heappush(hq, n)\n",
    "        heappop(hq)\n",
    "    return heappop(hq)"
   ]
  },
  {
   "cell_type": "code",
   "execution_count": 40,
   "metadata": {},
   "outputs": [
    {
     "data": {
      "text/plain": [
       "7"
      ]
     },
     "execution_count": 40,
     "metadata": {},
     "output_type": "execute_result"
    }
   ],
   "source": [
    "findKthLargestHeap([3,2,1,5,6,4, 7, 9], 2)"
   ]
  },
  {
   "cell_type": "markdown",
   "metadata": {},
   "source": [
    "### Idea 2\n",
    "Use the `partition` procedure in quicksort. `Partition` takes `O(n)` time, and `O(lg(n))` calls to the procedure is needed. Thus the time complexity is `O(nlg(n))`. But in practice, this approach might find the result much earlier before going through the entire array."
   ]
  },
  {
   "cell_type": "code",
   "execution_count": null,
   "metadata": {},
   "outputs": [],
   "source": [
    "\"\"\"\n",
    "[3,2,1,5,4,6]\n",
    "[3,6,1,5,4,2]\n",
    "[3,6,4,5,1,2]\n",
    "\"\"\""
   ]
  },
  {
   "cell_type": "code",
   "execution_count": 42,
   "metadata": {},
   "outputs": [],
   "source": [
    "def partition(nums, left, right):\n",
    "    pivot = nums[left]\n",
    "    l, r = left + 1, right\n",
    "    while l <= r:\n",
    "        if nums[l] < pivot and nums[r] > pivot:\n",
    "            nums[l], nums[r] = nums[r], nums[l]\n",
    "            l += 1; r -= 1\n",
    "        if nums[l] >= pivot:\n",
    "            l += 1\n",
    "        if nums[r] <= pivot:\n",
    "            r -= 1\n",
    "    nums[left], nums[r] = nums[r], nums[left]\n",
    "    return r"
   ]
  },
  {
   "cell_type": "code",
   "execution_count": 43,
   "metadata": {},
   "outputs": [],
   "source": [
    "def findKthLargestPartition(nums, k):\n",
    "    left, right = 0, len(nums) - 1\n",
    "    while True:\n",
    "        pos = partition(nums, left, right)\n",
    "        if pos == k-1:\n",
    "            return nums[k-1]\n",
    "        elif pos < k-1:\n",
    "            left = pos + 1\n",
    "        else:\n",
    "            right = pos - 1"
   ]
  },
  {
   "cell_type": "code",
   "execution_count": 50,
   "metadata": {},
   "outputs": [
    {
     "data": {
      "text/plain": [
       "3"
      ]
     },
     "execution_count": 50,
     "metadata": {},
     "output_type": "execute_result"
    }
   ],
   "source": [
    "findKthLargestPartition([3,2,1,5,6,4, 7, 9], 6)"
   ]
  }
 ],
 "metadata": {
  "kernelspec": {
   "display_name": "Python 3",
   "language": "python",
   "name": "python3"
  },
  "language_info": {
   "codemirror_mode": {
    "name": "ipython",
    "version": 3
   },
   "file_extension": ".py",
   "mimetype": "text/x-python",
   "name": "python",
   "nbconvert_exporter": "python",
   "pygments_lexer": "ipython3",
   "version": "3.6.4"
  }
 },
 "nbformat": 4,
 "nbformat_minor": 2
}
