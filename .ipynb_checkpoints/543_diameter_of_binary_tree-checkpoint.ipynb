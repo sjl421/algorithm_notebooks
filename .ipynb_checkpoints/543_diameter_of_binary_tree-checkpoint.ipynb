{
 "cells": [
  {
   "cell_type": "code",
   "execution_count": 1,
   "metadata": {},
   "outputs": [],
   "source": [
    "from shared_classes.TreeNode import TreeNode"
   ]
  },
  {
   "cell_type": "code",
   "execution_count": 2,
   "metadata": {},
   "outputs": [],
   "source": [
    "def diameterOfBinaryTree(root):\n",
    "    if not root: return 0\n",
    "    \n",
    "    def dfs(node, diameter):\n",
    "        if not node: return 0\n",
    "        ld = dfs(node.left, diameter)\n",
    "        rd = dfs(node.right, diameter)\n",
    "        diameter[0] = max(diameter[0], ld + rd + 1)\n",
    "        return max(ld, rd) + 1\n",
    "    \n",
    "    diameter = [0]\n",
    "    dfs(root, diameter)\n",
    "    return diameter[0]"
   ]
  },
  {
   "cell_type": "code",
   "execution_count": 3,
   "metadata": {},
   "outputs": [],
   "source": [
    "root = TreeNode(0)\n",
    "root.left = TreeNode(1)\n",
    "root.right = TreeNode(2)"
   ]
  },
  {
   "cell_type": "code",
   "execution_count": 5,
   "metadata": {},
   "outputs": [],
   "source": [
    "root.left.left = TreeNode(4)\n",
    "root.left.right = TreeNode(6)\n",
    "root.right.left = TreeNode(7)\n",
    "root.right.right = TreeNode(8)"
   ]
  },
  {
   "cell_type": "code",
   "execution_count": 6,
   "metadata": {},
   "outputs": [
    {
     "data": {
      "text/plain": [
       "5"
      ]
     },
     "execution_count": 6,
     "metadata": {},
     "output_type": "execute_result"
    }
   ],
   "source": [
    "diameterOfBinaryTree(root)"
   ]
  }
 ],
 "metadata": {
  "kernelspec": {
   "display_name": "Python 3",
   "language": "python",
   "name": "python3"
  },
  "language_info": {
   "codemirror_mode": {
    "name": "ipython",
    "version": 3
   },
   "file_extension": ".py",
   "mimetype": "text/x-python",
   "name": "python",
   "nbconvert_exporter": "python",
   "pygments_lexer": "ipython3",
   "version": "3.6.4"
  }
 },
 "nbformat": 4,
 "nbformat_minor": 2
}
