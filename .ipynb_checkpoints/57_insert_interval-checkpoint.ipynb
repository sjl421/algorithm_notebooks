{
 "cells": [
  {
   "cell_type": "markdown",
   "metadata": {},
   "source": [
    "### Idea\n",
    "1. Find where to insert the first number of the new interval\n",
    "    * look at the start time and find the first one that is larger than the start time of the new interval\n",
    "    * look at the end time of the intervals before the found interval in the previous step. Find the first one that is larger than the start time of the first interval"
   ]
  },
  {
   "cell_type": "code",
   "execution_count": 1,
   "metadata": {},
   "outputs": [],
   "source": [
    "from shared_classes.Interval import Interval"
   ]
  },
  {
   "cell_type": "code",
   "execution_count": 7,
   "metadata": {},
   "outputs": [],
   "source": [
    "def insert(intervals, newInterval):\n",
    "    \"\"\"\n",
    "    :type intervals: List[Interval]\n",
    "    :type newInterval: Interval\n",
    "    :rtype: List[Interval]\n",
    "    \"\"\"\n",
    "    s, e = newInterval.start, newInterval.end\n",
    "    left, right = [], []\n",
    "    for i in intervals:\n",
    "        if i.end < s:\n",
    "            left += [i]\n",
    "        elif i.start > e:\n",
    "            right += [i]\n",
    "        else:\n",
    "            s = min(s, i.start)\n",
    "            e = max(e, i.end)\n",
    "    return left + [Interval(s, e)] + right"
   ]
  }
 ],
 "metadata": {
  "kernelspec": {
   "display_name": "Python 3",
   "language": "python",
   "name": "python3"
  },
  "language_info": {
   "codemirror_mode": {
    "name": "ipython",
    "version": 3
   },
   "file_extension": ".py",
   "mimetype": "text/x-python",
   "name": "python",
   "nbconvert_exporter": "python",
   "pygments_lexer": "ipython3",
   "version": "3.6.4"
  }
 },
 "nbformat": 4,
 "nbformat_minor": 2
}
