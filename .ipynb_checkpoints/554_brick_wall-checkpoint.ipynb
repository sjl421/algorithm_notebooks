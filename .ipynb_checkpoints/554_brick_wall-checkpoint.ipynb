{
 "cells": [
  {
   "cell_type": "code",
   "execution_count": 7,
   "metadata": {},
   "outputs": [],
   "source": [
    "import collections\n",
    "\n",
    "def leastBricks(wall):\n",
    "    \"\"\"\n",
    "    :type wall: List[List[int]]\n",
    "    :rtype: int\n",
    "    \"\"\"\n",
    "    table = collections.defaultdict(int)\n",
    "    for row in wall:\n",
    "        s = 0\n",
    "        for n in row[:-1]:\n",
    "            s += n\n",
    "            table[s] += 1\n",
    "    \n",
    "    n = len(wall)\n",
    "    res = n\n",
    "    for key in table:\n",
    "        res = min(res, n - table[key])\n",
    "    return res"
   ]
  },
  {
   "cell_type": "code",
   "execution_count": 8,
   "metadata": {},
   "outputs": [
    {
     "data": {
      "text/plain": [
       "2"
      ]
     },
     "execution_count": 8,
     "metadata": {},
     "output_type": "execute_result"
    }
   ],
   "source": [
    "leastBricks([[1,2,2,1],\n",
    " [3,1,2],\n",
    " [1,3,2],\n",
    " [2,4],\n",
    " [3,1,2],\n",
    " [1,3,1,1]])"
   ]
  }
 ],
 "metadata": {
  "kernelspec": {
   "display_name": "Python 3",
   "language": "python",
   "name": "python3"
  },
  "language_info": {
   "codemirror_mode": {
    "name": "ipython",
    "version": 3
   },
   "file_extension": ".py",
   "mimetype": "text/x-python",
   "name": "python",
   "nbconvert_exporter": "python",
   "pygments_lexer": "ipython3",
   "version": "3.6.4"
  }
 },
 "nbformat": 4,
 "nbformat_minor": 2
}
