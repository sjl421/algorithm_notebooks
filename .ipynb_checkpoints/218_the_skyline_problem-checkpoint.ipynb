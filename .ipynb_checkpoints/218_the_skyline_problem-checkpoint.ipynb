{
 "cells": [
  {
   "cell_type": "code",
   "execution_count": 5,
   "metadata": {},
   "outputs": [],
   "source": [
    "from heapq import *\n",
    "\n",
    "def getSkyline(buildings):\n",
    "    points = sorted([(L, -H, R) for L,R,H in buildings] + \\\n",
    "                    [(R, 0, None) for L,R,H in buildings])\n",
    "    hq = [(0, float('inf'))]\n",
    "    res = [[0, 0]]\n",
    "    \n",
    "    for x, negH, R in points:\n",
    "        while x >= hq[0][1]:\n",
    "            heappop(hq)\n",
    "        if negH: heappush(hq, (negH, R))\n",
    "        if hq[0][0] + res[-1][1]:\n",
    "            res.append([x, -hq[0][0]])\n",
    "    \n",
    "    return res[1:]"
   ]
  },
  {
   "cell_type": "code",
   "execution_count": 6,
   "metadata": {},
   "outputs": [
    {
     "data": {
      "text/plain": [
       "[[2, 10], [3, 15], [7, 12], [12, 0], [15, 10], [20, 8], [24, 0]]"
      ]
     },
     "execution_count": 6,
     "metadata": {},
     "output_type": "execute_result"
    }
   ],
   "source": [
    "getSkyline([ [2, 9, 10], [3, 7, 15], [5, 12, 12], [15, 20, 10], [19, 24, 8] ])"
   ]
  }
 ],
 "metadata": {
  "kernelspec": {
   "display_name": "Python 3",
   "language": "python",
   "name": "python3"
  },
  "language_info": {
   "codemirror_mode": {
    "name": "ipython",
    "version": 3
   },
   "file_extension": ".py",
   "mimetype": "text/x-python",
   "name": "python",
   "nbconvert_exporter": "python",
   "pygments_lexer": "ipython3",
   "version": "3.6.4"
  }
 },
 "nbformat": 4,
 "nbformat_minor": 2
}
