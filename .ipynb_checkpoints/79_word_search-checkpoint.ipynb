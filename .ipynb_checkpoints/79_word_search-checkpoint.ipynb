{
 "cells": [
  {
   "cell_type": "code",
   "execution_count": 4,
   "metadata": {},
   "outputs": [],
   "source": [
    "def dfsSearch(board, i, j, word, pos):\n",
    "    if i < 0 or i >= len(board) or j < 0 or j >= len(board[0]) \\\n",
    "        or pos >= len(word) or board[i][j] != word[pos]:\n",
    "            return False\n",
    "    \n",
    "    if pos == len(word) - 1: return True\n",
    "    \n",
    "    t = board[i][j]\n",
    "    board[i][j] = '#'\n",
    "    \n",
    "    res = dfsSearch(board, i+1, j, word, pos+1) or \\\n",
    "            dfsSearch(board, i-1, j, word, pos+1) or \\\n",
    "            dfsSearch(board, i, j+1, word, pos+1) or \\\n",
    "            dfsSearch(board, i, j-1, word, pos+1)\n",
    "\n",
    "    board[i][j] = t\n",
    "    \n",
    "    return res\n",
    "\n",
    "def exist(board, word):\n",
    "    \"\"\"\n",
    "    :type board: List[List[str]]\n",
    "    :type word: str\n",
    "    :rtype: bool\n",
    "    \"\"\"\n",
    "    if not board and word: return False\n",
    "    if not board and not word: return True\n",
    "    \n",
    "    for i in range(len(board)):\n",
    "        for j in range(len(board[i])):\n",
    "            if dfsSearch(board, i, j, word, 0):\n",
    "                return True\n",
    "    \n",
    "    return False\n",
    "\n"
   ]
  },
  {
   "cell_type": "code",
   "execution_count": 13,
   "metadata": {},
   "outputs": [
    {
     "data": {
      "text/plain": [
       "True"
      ]
     },
     "execution_count": 13,
     "metadata": {},
     "output_type": "execute_result"
    }
   ],
   "source": [
    "exist([\n",
    "  ['A','B','C','E'],\n",
    "  ['S','F','C','S'],\n",
    "  ['A','D','E','E']\n",
    "], 'ABCCSEE')"
   ]
  }
 ],
 "metadata": {
  "kernelspec": {
   "display_name": "Python 3",
   "language": "python",
   "name": "python3"
  },
  "language_info": {
   "codemirror_mode": {
    "name": "ipython",
    "version": 3
   },
   "file_extension": ".py",
   "mimetype": "text/x-python",
   "name": "python",
   "nbconvert_exporter": "python",
   "pygments_lexer": "ipython3",
   "version": "3.6.4"
  }
 },
 "nbformat": 4,
 "nbformat_minor": 2
}
