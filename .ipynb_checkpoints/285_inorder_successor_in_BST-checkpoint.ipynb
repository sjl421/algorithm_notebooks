{
 "cells": [
  {
   "cell_type": "code",
   "execution_count": 2,
   "metadata": {},
   "outputs": [],
   "source": [
    "from shared_classes.TreeNode import TreeNode\n",
    "from shared_classes.buildTree import buildTree"
   ]
  },
  {
   "cell_type": "code",
   "execution_count": 3,
   "metadata": {},
   "outputs": [],
   "source": [
    "root = buildTree()"
   ]
  },
  {
   "cell_type": "code",
   "execution_count": 9,
   "metadata": {},
   "outputs": [],
   "source": [
    "def inorderRecursive(root):\n",
    "    if not root: return\n",
    "    inorderRecursive(root.left)\n",
    "    print(root.val)\n",
    "    inorderRecursive(root.right)"
   ]
  },
  {
   "cell_type": "code",
   "execution_count": 10,
   "metadata": {},
   "outputs": [
    {
     "name": "stdout",
     "output_type": "stream",
     "text": [
      "3\n",
      "1\n",
      "4\n",
      "0\n",
      "5\n",
      "2\n",
      "6\n"
     ]
    }
   ],
   "source": [
    "inorderRecursive(root)"
   ]
  },
  {
   "cell_type": "code",
   "execution_count": 17,
   "metadata": {},
   "outputs": [],
   "source": [
    "def inorderIterative(root):\n",
    "    stack = []\n",
    "    node = root\n",
    "    \n",
    "    while node or stack:\n",
    "        while node:\n",
    "            stack.append(node)\n",
    "            node = node.left\n",
    "        t = stack.pop()\n",
    "        print(t.val)\n",
    "        node = t.right"
   ]
  },
  {
   "cell_type": "code",
   "execution_count": 27,
   "metadata": {
    "scrolled": true
   },
   "outputs": [
    {
     "name": "stdout",
     "output_type": "stream",
     "text": [
      "3\n",
      "1\n",
      "4\n",
      "0\n",
      "5\n",
      "2\n",
      "6\n"
     ]
    }
   ],
   "source": [
    "inorderIterative(root)"
   ]
  },
  {
   "cell_type": "code",
   "execution_count": 40,
   "metadata": {},
   "outputs": [],
   "source": [
    "def inorderSuccessor(root, p):\n",
    "    \"\"\"\n",
    "    :type root: TreeNode\n",
    "    :type p: TreeNode\n",
    "    :rtype: TreeNode\n",
    "    \"\"\"\n",
    "    stack = []\n",
    "    node = root\n",
    "    found = False\n",
    "    \n",
    "    while node or stack:\n",
    "        while node:\n",
    "            stack.append(node)\n",
    "            node = node.left\n",
    "        t = stack.pop()\n",
    "        if found: return t\n",
    "        if t == p: found = True\n",
    "        node = t.right\n",
    "    return None"
   ]
  },
  {
   "cell_type": "code",
   "execution_count": 42,
   "metadata": {},
   "outputs": [],
   "source": [
    "inorderSuccessor(root, root.right.right)"
   ]
  }
 ],
 "metadata": {
  "kernelspec": {
   "display_name": "Python 3",
   "language": "python",
   "name": "python3"
  },
  "language_info": {
   "codemirror_mode": {
    "name": "ipython",
    "version": 3
   },
   "file_extension": ".py",
   "mimetype": "text/x-python",
   "name": "python",
   "nbconvert_exporter": "python",
   "pygments_lexer": "ipython3",
   "version": "3.6.4"
  }
 },
 "nbformat": 4,
 "nbformat_minor": 2
}
