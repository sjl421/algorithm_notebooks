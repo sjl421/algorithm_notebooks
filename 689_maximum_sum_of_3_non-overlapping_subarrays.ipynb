{
 "cells": [
  {
   "cell_type": "markdown",
   "metadata": {},
   "source": [
    "### Idea\n"
   ]
  },
  {
   "cell_type": "code",
   "execution_count": 15,
   "metadata": {},
   "outputs": [],
   "source": [
    "def maxSumOfThreeSubarrays(nums, k):\n",
    "    \"\"\"\n",
    "    :type nums: List[int]\n",
    "    :type k: int\n",
    "    :rtype: List[int]\n",
    "    \"\"\"\n",
    "    ksums = [sum(nums[:k])]\n",
    "    for i in range(k, len(nums)):\n",
    "        ksums.append(ksums[-1] + nums[i] - nums[i-k])\n",
    "    kn = len(ksums)\n",
    "    \n",
    "    maxId = 0\n",
    "    left = [0] * kn\n",
    "    for i in range(kn):\n",
    "        if ksums[maxId] < ksums[i]: maxId = i\n",
    "        left[i] = maxId \n",
    "        \n",
    "    maxId = kn - 1\n",
    "    right = [0] * kn\n",
    "    for i in range(kn-1, -1, -1):\n",
    "        if ksums[maxId] <= ksums[i]: maxId = i\n",
    "        right[i] = maxId\n",
    "    \n",
    "    res = []\n",
    "    for mid in range(k, kn-k):\n",
    "        l, r = left[mid-k], right[mid+k]\n",
    "        if not res or ksums[l] + ksums[mid] + ksums[r] > \\\n",
    "                      ksums[res[0]] + ksums[res[1]] + ksums[res[2]]:\n",
    "            res = [l, mid, r]\n",
    "    \n",
    "    return res\n",
    "    "
   ]
  },
  {
   "cell_type": "code",
   "execution_count": 7,
   "metadata": {},
   "outputs": [
    {
     "name": "stdout",
     "output_type": "stream",
     "text": [
      "[0, 0, 0, 3, 4, 4, 4] [4, 4, 4, 4, 4, 5, 6]\n"
     ]
    }
   ],
   "source": [
    "maxSumOfThreeSubarrays([1,2,1,2,6,7,5,1], 2)"
   ]
  },
  {
   "cell_type": "code",
   "execution_count": 16,
   "metadata": {},
   "outputs": [
    {
     "data": {
      "text/plain": [
       "[0, 3, 5]"
      ]
     },
     "execution_count": 16,
     "metadata": {},
     "output_type": "execute_result"
    }
   ],
   "source": [
    "maxSumOfThreeSubarrays([1,2,1,2,6,7,5,1], 2)"
   ]
  }
 ],
 "metadata": {
  "kernelspec": {
   "display_name": "Python 3",
   "language": "python",
   "name": "python3"
  },
  "language_info": {
   "codemirror_mode": {
    "name": "ipython",
    "version": 3
   },
   "file_extension": ".py",
   "mimetype": "text/x-python",
   "name": "python",
   "nbconvert_exporter": "python",
   "pygments_lexer": "ipython3",
   "version": "3.6.4"
  }
 },
 "nbformat": 4,
 "nbformat_minor": 2
}
