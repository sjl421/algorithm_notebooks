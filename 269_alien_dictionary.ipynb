{
 "cells": [
  {
   "cell_type": "markdown",
   "metadata": {},
   "source": [
    "### Idea\n",
    "Build a graph, then use topological sort. Topological sort can be performed by DFS. "
   ]
  },
  {
   "cell_type": "code",
   "execution_count": 44,
   "metadata": {},
   "outputs": [],
   "source": [
    "import collections\n",
    "\n",
    "def dfs(node, graph, visit, order):\n",
    "    \"\"\"\n",
    "    1: visited\n",
    "    0: not visited\n",
    "    -1: being visited\n",
    "    \"\"\"\n",
    "    if visit[node] == 1: return True\n",
    "    if visit[node] == -1: return False\n",
    "    visit[node] = -1\n",
    "    \n",
    "    for nei in graph[node]:\n",
    "        if not dfs(nei, graph, visit, order):\n",
    "            return False\n",
    "    \n",
    "    visit[node] = 1\n",
    "    order.insert(0, node)\n",
    "    return True\n",
    "\n",
    "def alienOrder(words):\n",
    "    \"\"\"\n",
    "    :type words: List[str]\n",
    "    :rtype: str\n",
    "    \"\"\"\n",
    "    if not words: return\n",
    "    if len(words) == 1: return words[0]\n",
    "    \n",
    "    # first build the graph\n",
    "    graph = {}\n",
    "    numW = len(words)\n",
    "    for i in range(1, numW):\n",
    "        for c in words[i-1]:\n",
    "            if c not in graph:\n",
    "                graph[c] = []\n",
    "        minL = min(len(words[i]), len(words[i-1]))\n",
    "        for j in range(minL):\n",
    "            if words[i-1][j] != words[i][j]:\n",
    "                graph[words[i-1][j]].append(words[i][j])\n",
    "                break\n",
    "    \n",
    "    for c in words[-1]:\n",
    "        if c not in graph:\n",
    "            graph[c] = []\n",
    "    \n",
    "    order = []\n",
    "    visit = collections.defaultdict(int)\n",
    "    nodes = list(graph.keys())\n",
    "    for n in nodes:\n",
    "        if not dfs(n, graph, visit, order):\n",
    "            return ''\n",
    "    return ''.join(order)"
   ]
  },
  {
   "cell_type": "code",
   "execution_count": 46,
   "metadata": {
    "scrolled": true
   },
   "outputs": [
    {
     "data": {
      "text/plain": [
       "'za'"
      ]
     },
     "execution_count": 46,
     "metadata": {},
     "output_type": "execute_result"
    }
   ],
   "source": [
    "alienOrder(['z', 'z', 'a'])"
   ]
  },
  {
   "cell_type": "code",
   "execution_count": 41,
   "metadata": {
    "scrolled": true
   },
   "outputs": [
    {
     "data": {
      "text/plain": [
       "'wertf'"
      ]
     },
     "execution_count": 41,
     "metadata": {},
     "output_type": "execute_result"
    }
   ],
   "source": [
    "alienOrder([\n",
    "  \"wrt\",\n",
    "  \"wrf\",\n",
    "  \"er\",\n",
    "  \"ett\",\n",
    "  \"rftt\"    \n",
    "])"
   ]
  },
  {
   "cell_type": "code",
   "execution_count": 40,
   "metadata": {},
   "outputs": [
    {
     "data": {
      "text/plain": [
       "''"
      ]
     },
     "execution_count": 40,
     "metadata": {},
     "output_type": "execute_result"
    }
   ],
   "source": [
    "alienOrder(['a', 'b', 'c', 'a'])"
   ]
  }
 ],
 "metadata": {
  "kernelspec": {
   "display_name": "Python 3",
   "language": "python",
   "name": "python3"
  },
  "language_info": {
   "codemirror_mode": {
    "name": "ipython",
    "version": 3
   },
   "file_extension": ".py",
   "mimetype": "text/x-python",
   "name": "python",
   "nbconvert_exporter": "python",
   "pygments_lexer": "ipython3",
   "version": "3.6.4"
  }
 },
 "nbformat": 4,
 "nbformat_minor": 2
}
