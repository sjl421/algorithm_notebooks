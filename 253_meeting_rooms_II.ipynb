{
 "cells": [
  {
   "cell_type": "code",
   "execution_count": 1,
   "metadata": {},
   "outputs": [],
   "source": [
    "from shared_classes.Interval import Interval"
   ]
  },
  {
   "cell_type": "code",
   "execution_count": 7,
   "metadata": {},
   "outputs": [],
   "source": [
    "from heapq import *\n",
    "def minMeetingRooms(intervals):\n",
    "    if not intervals: return 0\n",
    "    intervals.sort(key=lambda i: i.start)\n",
    "    numRoom = 1\n",
    "    hq = [intervals[0].end]\n",
    "    \n",
    "    for i in intervals[1:]:\n",
    "        if hq and hq[0] <= i.start:\n",
    "            heappop(hq)\n",
    "        heappush(hq, i.end)\n",
    "        numRoom = max(numRoom, len(hq))\n",
    "    \n",
    "    return numRoom"
   ]
  }
 ],
 "metadata": {
  "kernelspec": {
   "display_name": "Python 3",
   "language": "python",
   "name": "python3"
  },
  "language_info": {
   "codemirror_mode": {
    "name": "ipython",
    "version": 3
   },
   "file_extension": ".py",
   "mimetype": "text/x-python",
   "name": "python",
   "nbconvert_exporter": "python",
   "pygments_lexer": "ipython3",
   "version": "3.6.4"
  }
 },
 "nbformat": 4,
 "nbformat_minor": 2
}
