{
 "cells": [
  {
   "cell_type": "markdown",
   "metadata": {},
   "source": [
    "### [Problem Statement](https://leetcode.com/problems/basic-calculator-ii/description/)\n",
    "\n",
    "`\n",
    "\"3+2*2\" = 7\n",
    "\" 3/2 \" = 1\n",
    "\" 3+5 / 2 \" = 5\n",
    "`"
   ]
  },
  {
   "cell_type": "code",
   "execution_count": 27,
   "metadata": {},
   "outputs": [],
   "source": [
    "def calculate(s):\n",
    "    result = 0\n",
    "    ts = 1\n",
    "    i = 0\n",
    "    n = len(s)\n",
    "    sign = 1\n",
    "    multiply = False\n",
    "    divide = False\n",
    "    \n",
    "    while i < n:\n",
    "        if s[i].isdigit():\n",
    "            start = i\n",
    "            while i < n and s[i].isdigit():\n",
    "                i += 1\n",
    "            t = int(s[start:i])\n",
    "            if multiply: ts *= t\n",
    "            elif divide: ts /= t\n",
    "            else: ts = t\n",
    "            ts = int(ts)\n",
    "            i -= 1\n",
    "        elif s[i] in '+-':\n",
    "            result += sign * ts\n",
    "            ts = 1\n",
    "            sign = 1 if s[i] == '+' else -1\n",
    "            multiply = False; divide = False\n",
    "        elif s[i] == '*':\n",
    "            multiply = True\n",
    "            divide = False\n",
    "        elif s[i] == '/':\n",
    "            divide = True\n",
    "            multiply = False\n",
    "        i += 1\n",
    "    result += sign * ts\n",
    "    return int(result)\n",
    "            "
   ]
  },
  {
   "cell_type": "code",
   "execution_count": 28,
   "metadata": {},
   "outputs": [
    {
     "data": {
      "text/plain": [
       "8"
      ]
     },
     "execution_count": 28,
     "metadata": {},
     "output_type": "execute_result"
    }
   ],
   "source": [
    "calculate(\"14/3*2\")"
   ]
  }
 ],
 "metadata": {
  "kernelspec": {
   "display_name": "Python 3",
   "language": "python",
   "name": "python3"
  },
  "language_info": {
   "codemirror_mode": {
    "name": "ipython",
    "version": 3
   },
   "file_extension": ".py",
   "mimetype": "text/x-python",
   "name": "python",
   "nbconvert_exporter": "python",
   "pygments_lexer": "ipython3",
   "version": "3.6.4"
  }
 },
 "nbformat": 4,
 "nbformat_minor": 2
}
