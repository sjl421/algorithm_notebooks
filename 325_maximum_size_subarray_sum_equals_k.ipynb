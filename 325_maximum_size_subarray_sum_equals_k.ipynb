{
 "cells": [
  {
   "cell_type": "code",
   "execution_count": 9,
   "metadata": {},
   "outputs": [],
   "source": [
    "def maxSubArrayLen(nums, k):\n",
    "    table = {0: -1}\n",
    "    maxLen = 0\n",
    "    s = 0\n",
    "    \n",
    "    for i, n in enumerate(nums):\n",
    "        s += n\n",
    "        if s-k in table:\n",
    "            maxLen = max(maxLen, i - table[s-k])\n",
    "            \n",
    "        # the following `if` condition makes sure that \n",
    "        # `table` records the the smallest index of idetical partial sums\n",
    "        if s not in table: \n",
    "            table[s] = i\n",
    "    \n",
    "    return maxLen"
   ]
  },
  {
   "cell_type": "code",
   "execution_count": 10,
   "metadata": {},
   "outputs": [
    {
     "data": {
      "text/plain": [
       "4"
      ]
     },
     "execution_count": 10,
     "metadata": {},
     "output_type": "execute_result"
    }
   ],
   "source": [
    "maxSubArrayLen([1,-1,5,-2,3], 3)"
   ]
  }
 ],
 "metadata": {
  "kernelspec": {
   "display_name": "Python 3",
   "language": "python",
   "name": "python3"
  },
  "language_info": {
   "codemirror_mode": {
    "name": "ipython",
    "version": 3
   },
   "file_extension": ".py",
   "mimetype": "text/x-python",
   "name": "python",
   "nbconvert_exporter": "python",
   "pygments_lexer": "ipython3",
   "version": "3.6.4"
  }
 },
 "nbformat": 4,
 "nbformat_minor": 2
}
